{
  "nbformat": 4,
  "nbformat_minor": 0,
  "metadata": {
    "colab": {
      "provenance": []
    },
    "kernelspec": {
      "name": "python3",
      "display_name": "Python 3"
    },
    "language_info": {
      "name": "python"
    }
  },
  "cells": [
    {
      "cell_type": "markdown",
      "source": [
        "## Завдання 1. Розширення функціоналу префіксного дерева\n"
      ],
      "metadata": {
        "id": "jYz7YAIOUsAw"
      }
    },
    {
      "cell_type": "code",
      "source": [
        "pip install trie"
      ],
      "metadata": {
        "colab": {
          "base_uri": "https://localhost:8080/"
        },
        "id": "z8adP3YCtsU-",
        "outputId": "22d3df26-efb0-46c5-a940-d8aa8bd7309a"
      },
      "execution_count": 8,
      "outputs": [
        {
          "output_type": "stream",
          "name": "stdout",
          "text": [
            "Requirement already satisfied: trie in /usr/local/lib/python3.11/dist-packages (3.1.0)\n",
            "Requirement already satisfied: eth-hash>=0.1.0 in /usr/local/lib/python3.11/dist-packages (from trie) (0.7.1)\n",
            "Requirement already satisfied: eth-utils>=2.0.0 in /usr/local/lib/python3.11/dist-packages (from trie) (5.3.0)\n",
            "Requirement already satisfied: hexbytes>=0.2.3 in /usr/local/lib/python3.11/dist-packages (from trie) (1.3.1)\n",
            "Requirement already satisfied: rlp>=3 in /usr/local/lib/python3.11/dist-packages (from trie) (4.1.0)\n",
            "Requirement already satisfied: sortedcontainers>=2.1.0 in /usr/local/lib/python3.11/dist-packages (from trie) (2.4.0)\n",
            "Requirement already satisfied: eth-typing>=5.0.0 in /usr/local/lib/python3.11/dist-packages (from eth-utils>=2.0.0->trie) (5.2.1)\n",
            "Requirement already satisfied: cytoolz>=0.10.1 in /usr/local/lib/python3.11/dist-packages (from eth-utils>=2.0.0->trie) (1.0.1)\n",
            "Requirement already satisfied: pydantic<3,>=2.0.0 in /usr/local/lib/python3.11/dist-packages (from eth-utils>=2.0.0->trie) (2.11.5)\n",
            "Requirement already satisfied: toolz>=0.8.0 in /usr/local/lib/python3.11/dist-packages (from cytoolz>=0.10.1->eth-utils>=2.0.0->trie) (0.12.1)\n",
            "Requirement already satisfied: typing_extensions>=4.5.0 in /usr/local/lib/python3.11/dist-packages (from eth-typing>=5.0.0->eth-utils>=2.0.0->trie) (4.14.0)\n",
            "Requirement already satisfied: annotated-types>=0.6.0 in /usr/local/lib/python3.11/dist-packages (from pydantic<3,>=2.0.0->eth-utils>=2.0.0->trie) (0.7.0)\n",
            "Requirement already satisfied: pydantic-core==2.33.2 in /usr/local/lib/python3.11/dist-packages (from pydantic<3,>=2.0.0->eth-utils>=2.0.0->trie) (2.33.2)\n",
            "Requirement already satisfied: typing-inspection>=0.4.0 in /usr/local/lib/python3.11/dist-packages (from pydantic<3,>=2.0.0->eth-utils>=2.0.0->trie) (0.4.1)\n"
          ]
        }
      ]
    },
    {
      "cell_type": "code",
      "source": [
        "pip install TrieNode"
      ],
      "metadata": {
        "colab": {
          "base_uri": "https://localhost:8080/"
        },
        "id": "uQ3P7IbDt_kW",
        "outputId": "db348670-0480-421a-cce5-4b45956610e5"
      },
      "execution_count": 9,
      "outputs": [
        {
          "output_type": "stream",
          "name": "stdout",
          "text": [
            "\u001b[31mERROR: Could not find a version that satisfies the requirement TrieNode (from versions: none)\u001b[0m\u001b[31m\n",
            "\u001b[0m\u001b[31mERROR: No matching distribution found for TrieNode\u001b[0m\u001b[31m\n",
            "\u001b[0m"
          ]
        }
      ]
    },
    {
      "cell_type": "code",
      "source": [
        "class TrieNode:\n",
        "    def __init__(self):\n",
        "        self.children = {}\n",
        "        self.value = None\n",
        "        self.end_of_word = False\n",
        "\n",
        "class Trie:\n",
        "    def __init__(self):\n",
        "        self.root = TrieNode()\n",
        "\n",
        "    def put(self, key: str, value):\n",
        "        node = self.root\n",
        "        for char in key:\n",
        "            if char not in node.children:\n",
        "                node.children[char] = TrieNode()\n",
        "            node = node.children[char]\n",
        "        node.end_of_word = True\n",
        "        node.value = value\n",
        "\n",
        "    def get_all_words(self):\n",
        "        \"\"\"Повертає всі слова, збережені в дереві\"\"\"\n",
        "        result = []\n",
        "\n",
        "        def dfs(node, path):\n",
        "            if node.end_of_word:\n",
        "                result.append(path)\n",
        "            for char, child in node.children.items():\n",
        "                dfs(child, path + char)\n",
        "\n",
        "        dfs(self.root, \"\")\n",
        "        return result\n",
        "\n",
        "\n",
        "class Homework(Trie):\n",
        "    # Функція для підрахунку кількості слів, що закінчуються заданим шаблоном\n",
        "    def count_words_with_suffix(self, pattern) -> int:\n",
        "        if not isinstance(pattern, str):\n",
        "            raise ValueError(\"Суфікс має бути рядком.\")\n",
        "\n",
        "        words = self.get_all_words()\n",
        "        return sum(1 for word in words if word.endswith(pattern))\n",
        "\n",
        "    # Функція для перевірки наявності слів із заданим префіксом\n",
        "    def has_prefix(self, prefix) -> bool:\n",
        "        if not isinstance(prefix, str):\n",
        "            raise ValueError(\"Префікс має бути рядком.\")\n",
        "\n",
        "        node = self.root\n",
        "        for char in prefix:\n",
        "            if char not in node.children:\n",
        "                return False\n",
        "            node = node.children[char]\n",
        "        return True\n",
        "\n",
        "\n",
        "if __name__ == \"__main__\":\n",
        "    trie = Homework()\n",
        "    words = [\"apple\", \"application\", \"banana\", \"CAT\", \"battery\", \"demonstration\"]\n",
        "    for i, word in enumerate(words):\n",
        "        trie.put(word, i)\n",
        "\n",
        "    print(\" Тестування count_words_with_suffix:\")\n",
        "    try:\n",
        "        print(\"Суфікс 'e':\", trie.count_words_with_suffix(\"e\"))  # Очікується 0 (Apple закінчується на 'e', але з великої літери)\n",
        "        print(\"Суфікс 'ion':\", trie.count_words_with_suffix(\"ion\"))  # Очікується 1\n",
        "        print(\"Суфікс 'a':\", trie.count_words_with_suffix(\"a\"))  # Очікується 1\n",
        "        print(\"Суфікс 'at':\", trie.count_words_with_suffix(\"at\"))  # Очікується 0 (бо 'CAT')\n",
        "    except Exception as e:\n",
        "        print(\"❌ Помилка:\", e)\n",
        "\n",
        "    print(\"\\n Тестування has_prefix:\")\n",
        "    try:\n",
        "        print(\"Префікс 'app':\", trie.has_prefix(\"app\"))  # True\n",
        "        print(\"Префікс 'bat':\", trie.has_prefix(\"bat\"))  # True\n",
        "        print(\"Префікс 'ban':\", trie.has_prefix(\"ban\"))  # True\n",
        "        print(\"Префікс 'ca':\", trie.has_prefix(\"ca\"))  # False (бо 'CAT')\n",
        "    except Exception as e:\n",
        "        print(\"❌ Помилка:\", e)\n",
        "\n",
        "    print(\"\\n Тестування обробки помилок:\")\n",
        "    try:\n",
        "        trie.count_words_with_suffix(123)\n",
        "    except Exception as e:\n",
        "        print(\"count_words_with_suffix(123) →\", e)\n",
        "\n",
        "    try:\n",
        "        trie.has_prefix(None)\n",
        "    except Exception as e:\n",
        "        print(\"has_prefix(None) →\", e)\n",
        "\n",
        "    print(\"\\n✅ Усі тести виконано.\")"
      ],
      "metadata": {
        "colab": {
          "base_uri": "https://localhost:8080/"
        },
        "id": "Mwu2wW4kWZQX",
        "outputId": "b9de646f-b6d7-48c8-e79f-ef6e77bb9234"
      },
      "execution_count": 14,
      "outputs": [
        {
          "output_type": "stream",
          "name": "stdout",
          "text": [
            " Тестування count_words_with_suffix:\n",
            "Суфікс 'e': 1\n",
            "Суфікс 'ion': 2\n",
            "Суфікс 'a': 1\n",
            "Суфікс 'at': 0\n",
            "\n",
            " Тестування has_prefix:\n",
            "Префікс 'app': True\n",
            "Префікс 'bat': True\n",
            "Префікс 'ban': True\n",
            "Префікс 'ca': False\n",
            "\n",
            " Тестування обробки помилок:\n",
            "count_words_with_suffix(123) → Суфікс має бути рядком.\n",
            "has_prefix(None) → Префікс має бути рядком.\n",
            "\n",
            "✅ Усі тести виконано.\n"
          ]
        }
      ]
    },
    {
      "cell_type": "markdown",
      "source": [
        "##Завдання 2. Пошук найдовшого спільного префікса"
      ],
      "metadata": {
        "id": "omikb8-lUyjc"
      }
    },
    {
      "cell_type": "code",
      "source": [
        "class TrieNode:\n",
        "    def __init__(self):\n",
        "        self.children = {}\n",
        "        self.is_end_of_word = False\n",
        "\n",
        "class Trie:\n",
        "    def __init__(self):\n",
        "        self.root = TrieNode()\n",
        "\n",
        "    def put(self, word: str):\n",
        "        if not isinstance(word, str):\n",
        "            raise TypeError(\"Слово повинно бути рядком.\")\n",
        "        node = self.root\n",
        "        for char in word:\n",
        "            node = node.children.setdefault(char, TrieNode())\n",
        "        node.is_end_of_word = True\n",
        "\n",
        "# Клас LongestCommonWord з успадкуванням класу Trie\n",
        "class LongestCommonWord(Trie):\n",
        "    # Метод find_longest_common_word\n",
        "    def find_longest_common_word(self, strings) -> str:\n",
        "        if not isinstance(strings, list) or not all(isinstance(s, str) for s in strings):\n",
        "            raise ValueError(\"Вхідні дані мають бути списком рядків.\")\n",
        "        if not strings:\n",
        "            return \"\"\n",
        "\n",
        "        # Побудова Trie\n",
        "        for word in strings:\n",
        "            self.put(word)\n",
        "\n",
        "        # Пошук префікса\n",
        "        prefix = \"\"\n",
        "        node = self.root\n",
        "        while node:\n",
        "            if len(node.children) == 1 and not node.is_end_of_word:\n",
        "                char = next(iter(node.children))\n",
        "                prefix += char\n",
        "                node = node.children[char]\n",
        "            else:\n",
        "                break\n",
        "        return prefix\n",
        "\n",
        "if __name__ == \"__main__\":\n",
        "    def run_tests():\n",
        "        tests = [\n",
        "            {\n",
        "                \"strings\": [\"flower\", \"flow\", \"flight\"],\n",
        "                \"expected\": \"fl\"\n",
        "            },\n",
        "            {\n",
        "                \"strings\": [\"interspecies\", \"interstellar\", \"interstate\"],\n",
        "                \"expected\": \"inters\"\n",
        "            },\n",
        "            {\n",
        "                \"strings\": [\"dog\", \"racecar\", \"car\"],\n",
        "                \"expected\": \"\"\n",
        "            },\n",
        "            {\n",
        "                \"strings\": [],\n",
        "                \"expected\": \"\"\n",
        "            },\n",
        "            {\n",
        "                \"strings\": [\"same\", \"same\", \"same\"],\n",
        "                \"expected\": \"same\"\n",
        "            },\n",
        "            {\n",
        "                \"strings\": [\"prefix\"],\n",
        "                \"expected\": \"prefix\"\n",
        "            },\n",
        "            {\n",
        "                \"strings\": [\"valid\", 123, \"input\"],\n",
        "                \"expected_exception\": ValueError\n",
        "            }\n",
        "        ]\n",
        "\n",
        "        for i, test in enumerate(tests, 1):\n",
        "            trie = LongestCommonWord()\n",
        "            try:\n",
        "                result = trie.find_longest_common_word(test[\"strings\"])\n",
        "                assert result == test[\"expected\"], f\"❌ Тест {i} не пройдено: очікувалося '{test['expected']}', отримано '{result}'\"\n",
        "                print(f\"✅ Тест {i} пройдено: {result}\")\n",
        "            except Exception as e:\n",
        "                print(f\"❌ Тест {i} не пройдено через помилку: {e}\")\n",
        "\n",
        "    run_tests()"
      ],
      "metadata": {
        "colab": {
          "base_uri": "https://localhost:8080/"
        },
        "id": "6Rj8WHCyXuyW",
        "outputId": "1f4c57d5-2b04-48d9-f58b-b8dbd56f5eb2"
      },
      "execution_count": 13,
      "outputs": [
        {
          "output_type": "stream",
          "name": "stdout",
          "text": [
            "✅ Тест 1 пройдено: fl\n",
            "✅ Тест 2 пройдено: inters\n",
            "✅ Тест 3 пройдено: \n",
            "✅ Тест 4 пройдено: \n",
            "✅ Тест 5 пройдено: same\n",
            "✅ Тест 6 пройдено: prefix\n",
            "❌ Тест 7 не пройдено через помилку: Вхідні дані мають бути списком рядків.\n"
          ]
        }
      ]
    }
  ]
}